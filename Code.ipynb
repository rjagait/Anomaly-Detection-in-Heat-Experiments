{
 "cells": [
  {
   "cell_type": "code",
   "execution_count": 1,
   "metadata": {},
   "outputs": [],
   "source": [
    "################################################\n",
    "## Import Necessary libraries\n",
    "################################################\n",
    "import glob\n",
    "import matplotlib.pyplot as plt\n",
    "import numpy as np\n",
    "import os\n",
    "import pandas as pd\n",
    "\n",
    "from scipy.stats import multivariate_normal\n",
    "from sklearn import preprocessing\n",
    "from sklearn.cluster import KMeans\n",
    "from sklearn.ensemble import ExtraTreesClassifier\n",
    "from sklearn.metrics import confusion_matrix, classification_report, f1_score\n",
    "from sklearn.model_selection import train_test_split\n",
    "from xgboost import XGBClassifier\n",
    "\n",
    "# Used in highlighting print statements\n",
    "BOLD = '\\033[1m'\n",
    "END = '\\033[0m'\n",
    "\n",
    "#Please update as per Dataset path\n",
    "home = 'C:/Users/Rashpinder/Documents/Python scripts/ML/Datasets/'\n",
    "\n",
    "import warnings\n",
    "warnings.filterwarnings('ignore')"
   ]
  },
  {
   "cell_type": "markdown",
   "metadata": {},
   "source": [
    "## Data Pre-processing"
   ]
  },
  {
   "cell_type": "code",
   "execution_count": 2,
   "metadata": {},
   "outputs": [
    {
     "name": "stdout",
     "output_type": "stream",
     "text": [
      "Shape of the filtered dataset:  (45626, 10)\n"
     ]
    }
   ],
   "source": [
    "################################################\n",
    "## 1. Merge Data into one file\n",
    "## 2. Splitting data into test and train\n",
    "## 3. Data Normalization\n",
    "################################################\n",
    "\n",
    "# function to filter for sds armed only\n",
    "# Argument: accepts the folder name to be filtered\n",
    "# Returns: filtered dataset as dataframe\n",
    "def filter_dataset(folder):\n",
    "    path = home+folder\n",
    "    os.chdir(path)\n",
    "    \n",
    "    sds_armed_csv = pd.DataFrame([])\n",
    "    for file_name in glob.glob('*.csv'):\n",
    "        each_csv = pd.read_csv(file_name)\n",
    "        each_sds_armed_csv = each_csv[each_csv.Sds_Armed == 1]\n",
    "        sds_armed_csv = pd.concat([sds_armed_csv, each_sds_armed_csv])\n",
    "    \n",
    "    return sds_armed_csv\n",
    "\n",
    "# Merge data into one file\n",
    "folder = 'Experiments_with_Anomalies'\n",
    "anomalies_filtered= filter_dataset(folder)\n",
    "anomalies_filtered.to_csv( home+\"merged_exp_contains_anomalies.csv\", index=False, encoding='utf-8-sig')\n",
    "data = anomalies_filtered\n",
    "print(\"Shape of the filtered dataset: \", data)\n",
    "\n",
    "#Split into features and target\n",
    "X = data.iloc[:,0:8]  #independent columns\n",
    "Y = data.iloc[:,-1]    #target column i.e anomaly Tag\n",
    "x_train, x_test, y_train, y_test = train_test_split(X, Y, test_size = 0.3, random_state = 42, stratify = Y)\n",
    "\n",
    "# Normalize dataset\n",
    "min_max_scaler = preprocessing.MinMaxScaler()\n",
    "x_train=min_max_scaler.fit_transform(x_train)\n",
    "x_test=min_max_scaler.transform(x_test)"
   ]
  },
  {
   "cell_type": "markdown",
   "metadata": {},
   "source": [
    "## Feature Significance Check"
   ]
  },
  {
   "cell_type": "code",
   "execution_count": 3,
   "metadata": {
    "scrolled": true
   },
   "outputs": [
    {
     "name": "stdout",
     "output_type": "stream",
     "text": [
      "Feature Importance: [0.22868577 0.16156046 0.14597235 0.14625306 0.09582799 0.06908348\n",
      " 0.07130002 0.08131687]\n"
     ]
    },
    {
     "data": {
      "image/png": "[encoded data removed]",
      "text/plain": [
       "<Figure size 432x288 with 1 Axes>"
      ]
     },
     "metadata": {
      "needs_background": "light"
     },
     "output_type": "display_data"
    }
   ],
   "source": [
    "################################################\n",
    "## Rank the Significance of Each feature\n",
    "## Extra Trees Classifier\n",
    "################################################\n",
    "\n",
    "# fit model\n",
    "ETmodel = ExtraTreesClassifier(n_estimators=10)\n",
    "ETmodel.fit(X, Y)\n",
    "\n",
    "# get significance\n",
    "imp = ETmodel.feature_importances_\n",
    "print(\"Feature Importance:\", imp)\n",
    "\n",
    "# plot significance\n",
    "feat_importances = pd.Series(imp, index=X.columns)\n",
    "feat_importances.nlargest(10).plot(kind='barh')\n",
    "plt.show()"
   ]
  },
  {
   "cell_type": "markdown",
   "metadata": {},
   "source": [
    "## Prediction Models"
   ]
  },
  {
   "cell_type": "code",
   "execution_count": 4,
   "metadata": {},
   "outputs": [],
   "source": [
    "############################################\n",
    "## For comparitive analysis\n",
    "############################################\n",
    "\n",
    "accuracy_f1={}\n",
    "accuracy_detection_rate={}\n",
    "accuracy_false_alarm_rate={}\n",
    "\n",
    "# function to determine and store accuracies\n",
    "def get_detection_capabilities(y, y_pred, model_name):\n",
    "    cm = confusion_matrix(y, y_pred)\n",
    "    cr = classification_report(y, y_pred)\n",
    "    tn, fp, fn, tp = cm.ravel()\n",
    "    tpr = tp/(tp+fn)\n",
    "    fpr = fp/(fp+tn)\n",
    "\n",
    "    accuracy_f1[model_name] =  f1_score(y, y_pred)\n",
    "    accuracy_detection_rate[model_name]= tpr\n",
    "    accuracy_false_alarm_rate[model_name] = fpr\n",
    "\n",
    "    print(BOLD, \"Classification Report:\\n\", END, cr)\n",
    "    print(BOLD, \"\\nConfusion Matrix:\\n\", END, cm)\n",
    "    return"
   ]
  },
  {
   "cell_type": "markdown",
   "metadata": {},
   "source": [
    "### Multivariate Gaussian"
   ]
  },
  {
   "cell_type": "code",
   "execution_count": 5,
   "metadata": {},
   "outputs": [
    {
     "name": "stdout",
     "output_type": "stream",
     "text": [
      "Optimal Epsilon:  46297523.184658445 \n",
      "\n",
      "\u001b[1m Classification Report:\n",
      " \u001b[0m               precision    recall  f1-score   support\n",
      "\n",
      "           0       0.92      0.78      0.85     11759\n",
      "           1       0.31      0.60      0.41      1929\n",
      "\n",
      "    accuracy                           0.76     13688\n",
      "   macro avg       0.62      0.69      0.63     13688\n",
      "weighted avg       0.84      0.76      0.79     13688\n",
      "\n",
      "\u001b[1m \n",
      "Confusion Matrix:\n",
      " \u001b[0m [[9218 2541]\n",
      " [ 768 1161]]\n"
     ]
    }
   ],
   "source": [
    "################################################\n",
    "## Generate Alarm on Gaussian Model\n",
    "## defining functions\n",
    "################################################\n",
    "model_name = 'Multivariate Gaussian'\n",
    "\n",
    "# function to get the norm functions of test and train\n",
    "def generateCovModel(X_normal, X_ano):\n",
    "    mu_normal = np.mean(X_normal, axis=0)\n",
    "    sigma_normal = np.cov(X_normal.T)\n",
    "\n",
    "    p_normal = multivariate_normal.pdf(X_normal, mean=mu_normal, cov=sigma_normal)\n",
    "    p_ano = multivariate_normal.pdf(X_ano, mean=mu_normal, cov=sigma_normal)\n",
    "    return p_normal, p_ano\n",
    "\n",
    "# function to determine threshold over train dataset\n",
    "def determineThreshold(p,Y):\n",
    "    best_epsilon = 0\n",
    "    best_f1 = 0\n",
    "    f = 0\n",
    "    stepsize = (max(p) - min(p)) / 1000;\n",
    "    epsilons = np.arange(min(p),max(p),stepsize)\n",
    "    for epsilon in np.nditer(epsilons):\n",
    "        pred = (p < epsilon)\n",
    "        f = f1_score(Y, pred)\n",
    "        if f > best_f1:\n",
    "            best_f1 = f\n",
    "            best_epsilon = epsilon\n",
    "    return best_f1, best_epsilon\n",
    "\n",
    "# Train and test model\n",
    "p_train, p_test = generateCovModel(x_train, x_test)\n",
    "fscore1, ep1 = determineThreshold(p_train,y_train)\n",
    "y_pred = p_test < ep1\n",
    "\n",
    "# evaluate model\n",
    "print(\"Optimal Epsilon: \", ep1, \"\\n\")\n",
    "get_detection_capabilities(y_test, y_pred, model_name)"
   ]
  },
  {
   "cell_type": "markdown",
   "metadata": {},
   "source": [
    "### Boosted Trees: XGBoost"
   ]
  },
  {
   "cell_type": "code",
   "execution_count": 6,
   "metadata": {},
   "outputs": [
    {
     "name": "stdout",
     "output_type": "stream",
     "text": [
      "\u001b[1m Classification Report:\n",
      " \u001b[0m               precision    recall  f1-score   support\n",
      "\n",
      "           0       0.93      0.99      0.96     11759\n",
      "           1       0.87      0.55      0.67      1929\n",
      "\n",
      "    accuracy                           0.92     13688\n",
      "   macro avg       0.90      0.77      0.82     13688\n",
      "weighted avg       0.92      0.92      0.92     13688\n",
      "\n",
      "\u001b[1m \n",
      "Confusion Matrix:\n",
      " \u001b[0m [[11594   165]\n",
      " [  864  1065]]\n"
     ]
    }
   ],
   "source": [
    "################################################\n",
    "## XGBoost Algorithm\n",
    "################################################\n",
    "model_name = 'XGBoost'\n",
    "\n",
    "# model training and test\n",
    "model = XGBClassifier() \n",
    "model.fit(x_train, y_train)\n",
    "y_pred=model.predict(x_test)\n",
    "\n",
    "# evaluate model\n",
    "get_detection_capabilities(y_test, y_pred, model_name)"
   ]
  },
  {
   "cell_type": "markdown",
   "metadata": {},
   "source": [
    "### Clustering Algorithm: K-means"
   ]
  },
  {
   "cell_type": "code",
   "execution_count": 7,
   "metadata": {},
   "outputs": [
    {
     "name": "stdout",
     "output_type": "stream",
     "text": [
      "\u001b[1m Classification Report:\n",
      " \u001b[0m               precision    recall  f1-score   support\n",
      "\n",
      "           0       0.64      0.12      0.20     11759\n",
      "           1       0.10      0.58      0.17      1929\n",
      "\n",
      "    accuracy                           0.19     13688\n",
      "   macro avg       0.37      0.35      0.19     13688\n",
      "weighted avg       0.56      0.19      0.20     13688\n",
      "\n",
      "\u001b[1m \n",
      "Confusion Matrix:\n",
      " \u001b[0m [[ 1419 10340]\n",
      " [  806  1123]]\n"
     ]
    },
    {
     "data": {
      "image/png": "[encoded data removed]",
      "text/plain": [
       "<Figure size 432x288 with 1 Axes>"
      ]
     },
     "metadata": {
      "needs_background": "light"
     },
     "output_type": "display_data"
    }
   ],
   "source": [
    "################################################\n",
    "## K-Means Clustering\n",
    "################################################\n",
    "model_name = 'K-means'\n",
    "np.random.seed(seed=20)\n",
    "\n",
    "# model training and test\n",
    "kmeans = KMeans(n_clusters = 2, init='k-means++')\n",
    "model = kmeans.fit(x_test)\n",
    "y_pred = kmeans.predict(x_test) \n",
    "\n",
    "# evaluate model\n",
    "get_detection_capabilities(y_test, y_pred, model_name)\n",
    "\n",
    "# plot of decoupled clusters\n",
    "columns = data.columns\n",
    "colors = ['pink', 'yellow']\n",
    "i1 = 0; i2 = 3\n",
    "plt.title('Decoupling the data using K-means clustering')\n",
    "plt.xlabel(columns[i1])\n",
    "plt.ylabel(columns[i2])\n",
    "plt.scatter(x_test[y_pred == 1][i1], x_test[y_pred == 1][i2], s = 100, c = 'yellow', label = 'Anamalies')\n",
    "plt.scatter(x_test[y_pred == 0][i1], x_test[y_pred == 0][i2], s = 100, c = 'pink', label = 'Normal')\n",
    "plt.scatter(kmeans.cluster_centers_[:, 0], kmeans.cluster_centers_[:,1], s = 50, c = 'blue', label = 'Centroids')\n",
    "plt.legend()\n",
    "plt.show()"
   ]
  },
  {
   "cell_type": "markdown",
   "metadata": {},
   "source": [
    "## Accuracy Comparison"
   ]
  },
  {
   "cell_type": "code",
   "execution_count": 8,
   "metadata": {},
   "outputs": [
    {
     "name": "stdout",
     "output_type": "stream",
     "text": [
      "\u001b[1m \n",
      "\n",
      "Detection Capabilities\n",
      " \u001b[0m\n"
     ]
    },
    {
     "data": {
      "image/png": "[encoded data removed]",
      "text/plain": [
       "<Figure size 1008x144 with 1 Axes>"
      ]
     },
     "metadata": {
      "needs_background": "light"
     },
     "output_type": "display_data"
    },
    {
     "data": {
      "image/png": "[encoded data removed]",
      "text/plain": [
       "<Figure size 1008x144 with 1 Axes>"
      ]
     },
     "metadata": {
      "needs_background": "light"
     },
     "output_type": "display_data"
    },
    {
     "data": {
      "image/png": "[encoded data removed]",
      "text/plain": [
       "<Figure size 1008x144 with 1 Axes>"
      ]
     },
     "metadata": {
      "needs_background": "light"
     },
     "output_type": "display_data"
    }
   ],
   "source": [
    "# function to plot the relative accuracies\n",
    "def plot_analysis(toPlot, title, x_label):\n",
    "    plt.figure(figsize=(14,2))\n",
    "    plt.title(title)\n",
    "    plt.xlabel(x_label)\n",
    "    plt.ylabel(\"Algorithms\")\n",
    "    plt.barh(list(toPlot.keys()), toPlot.values(), align='center')\n",
    "    plt.show()    \n",
    "    return\n",
    "\n",
    "# plotting for accuracy comparison\n",
    "print(BOLD, \"\\n\\nDetection Capabilities\\n\", END)\n",
    "plot_analysis(accuracy_f1, \"F1-score Vs Algorithms\", \"F1-score\")\n",
    "plot_analysis(accuracy_detection_rate, 'Detection Rate Vs Algorithms', \"Detection Rate\")\n",
    "plot_analysis(accuracy_false_alarm_rate, \"False Alarm Rate Vs Algorithms\", \"False Alarm Rate\")"
   ]
  }
 ],
 "metadata": {
  "kernelspec": {
   "display_name": "Python 3",
   "language": "python",
   "name": "python3"
  },
  "language_info": {
   "codemirror_mode": {
    "name": "ipython",
    "version": 3
   },
   "file_extension": ".py",
   "mimetype": "text/x-python",
   "name": "python",
   "nbconvert_exporter": "python",
   "pygments_lexer": "ipython3",
   "version": "3.7.4"
  }
 },
 "nbformat": 4,
 "nbformat_minor": 2
}
